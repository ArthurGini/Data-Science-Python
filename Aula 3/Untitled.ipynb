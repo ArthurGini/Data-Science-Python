{
 "cells": [
  {
   "cell_type": "code",
   "execution_count": null,
   "metadata": {},
   "outputs": [],
   "source": [
    "\"\"\"\n",
    "Autor: Arthur Briganti Gini\n",
    "RA: 213253\n",
    "e-mail: a213253@dac.unicamp.br\n",
    "\n",
    "\n",
    "Analisando os dados do jogo de dados CRAPS\n",
    "\n",
    "Você deverá simular diversas rodadas do CRAPS rastreando o número total de jogos ganhos e perdidos no primeiro lançamento, no segundo lançamento, no terceiro lançamento, etc. Resuma os resultados do seguinte modo:\n",
    "\n",
    "    Exibir um gráfico de barra horizontal indicando quantos jogos foram ganhos e como muitos são perdidos no primeiro lançamento, segundo lançamento, terceiro lançamento, etc. Uma vez que o jogo poderia continuar indefinidamente, você pode acompanhar as vitórias e derrotas na primeira dúzia lançamentos (de um par de dados), em seguida, manter dois contadores que controlam as vitórias e perdas após 12 lançamentos - não importa quanto tempo o jogo leve. Crie barras separadas para vitórias e derrotas.\n",
    "    Quais são as chances de ganhar no craps? [Nota: Você deve descobrir que craps é um dos jogos de casino mais justos. O que você acha que isso significa?]\n",
    "    Qual é a média para a duração de um jogo de dados? A mediana? O modo?\n",
    "    As chances de vitória aumentam com a duração do jogo?\n",
    "\"\"\""
   ]
  },
  {
   "cell_type": "code",
   "execution_count": 25,
   "metadata": {},
   "outputs": [
    {
     "name": "stdout",
     "output_type": "stream",
     "text": [
      "Player rolled 5 + 3 = 8\n",
      "Point is 8\n",
      "Player rolled 5 + 3 = 8\n",
      "Player wins\n"
     ]
    }
   ],
   "source": [
    "import random \n",
    "\n",
    "\n",
    "def roll_dice():\n",
    "    \"\"\"Roll two dice and return their face values as a tuple.\"\"\"\n",
    "    die1 = random.randrange(1, 7)\n",
    "    die2 = random.randrange(1, 7)\n",
    "    return (die1, die2)  # pack die face values into a tuple\n",
    "\n",
    "def display_dice(dice):\n",
    "    \"\"\"Display one roll of the two dice.\"\"\"\n",
    "    die1, die2 = dice  # unpack the tuple into variables die1 and die2\n",
    "    print(f'Player rolled {die1} + {die2} = {sum(dice)}')\n",
    "\n",
    "die_values = roll_dice()  # first roll\n",
    "display_dice(die_values)\n",
    "\n",
    "# determine game status and point, based on first roll\n",
    "sum_of_dice = sum(die_values)\n",
    "\n",
    "if sum_of_dice in (7, 11):  # win\n",
    "    game_status = 'WON'\n",
    "elif sum_of_dice in (2, 3, 12):  # lose\n",
    "    game_status = 'LOST'\n",
    "else:  # remember point\n",
    "    game_status = 'CONTINUE'\n",
    "    my_point = sum_of_dice\n",
    "    print('Point is', my_point)\n",
    "\n",
    "# continue rolling until player wins or loses\n",
    "while game_status == 'CONTINUE':\n",
    "    die_values = roll_dice()\n",
    "    display_dice(die_values)\n",
    "    sum_of_dice = sum(die_values)\n",
    "\n",
    "    if sum_of_dice == my_point:  # win by making point\n",
    "        game_status = 'WON'\n",
    "    elif sum_of_dice == 7:  # lose by rolling 7\n",
    "        game_status = 'LOST'\n",
    "\n",
    "# display \"wins\" or \"loses\" message\n",
    "if game_status == 'WON':\n",
    "    print('Player wins')\n",
    "else:\n",
    "    print('Player loses')"
   ]
  },
  {
   "cell_type": "code",
   "execution_count": null,
   "metadata": {},
   "outputs": [],
   "source": [
    "quan"
   ]
  },
  {
   "cell_type": "code",
   "execution_count": null,
   "metadata": {},
   "outputs": [],
   "source": []
  }
 ],
 "metadata": {
  "kernelspec": {
   "display_name": "Python 3",
   "language": "python",
   "name": "python3"
  },
  "language_info": {
   "codemirror_mode": {
    "name": "ipython",
    "version": 3
   },
   "file_extension": ".py",
   "mimetype": "text/x-python",
   "name": "python",
   "nbconvert_exporter": "python",
   "pygments_lexer": "ipython3",
   "version": "3.8.6"
  }
 },
 "nbformat": 4,
 "nbformat_minor": 4
}
