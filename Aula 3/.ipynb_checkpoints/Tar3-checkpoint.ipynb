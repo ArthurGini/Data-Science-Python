{
 "cells": [
  {
   "cell_type": "code",
   "execution_count": 2,
   "metadata": {},
   "outputs": [],
   "source": [
    "dados = {\n",
    "    \"lancamentos\": 0, \n",
    "    \"vitorias12\": 0,\n",
    "    \"perdas12\": 0,\n",
    "    \"primeira\": [1,1,1,1,0,0,0],\n",
    "    \"segunda\": [],\n",
    "    \"terceira\": [],\n",
    "    \"quarta\": [],\n",
    "    \"quinta\": [],\n",
    "    \"sexta\": [],\n",
    "    \"setima\": []\n",
    "}"
   ]
  },
  {
   "cell_type": "code",
   "execution_count": 3,
   "metadata": {},
   "outputs": [
    {
     "name": "stdout",
     "output_type": "stream",
     "text": [
      "{'lancamentos': 0, 'primeira': [], 'segunda': [], 'terceira': [], 'quarta': [], 'quinta': [], 'sexta': [], 'setima': []}\n"
     ]
    }
   ],
   "source": [
    "print (dados)"
   ]
  },
  {
   "cell_type": "code",
   "execution_count": 11,
   "metadata": {},
   "outputs": [
    {
     "name": "stdout",
     "output_type": "stream",
     "text": [
      "Na primeira rodada 1\n"
     ]
    }
   ],
   "source": [
    "#listas heterogeneas\n",
    "winsRodadas = [\"primeira\", 1, \"segunda\", 2, \"terceira\", 3, \"quarta\", 4, \"quinta\", 5]\n",
    "looseRodadas = [\"primeira\", 1, \"segunda\", 2, \"terceira\", 3, \"quarta\", 4, \"quinta\", 5]\n",
    "\n",
    "#Numero de vitorias e derrotas apos 12 tentativas\n",
    "vitorias12 = []\n",
    "derrotas12 = []\n",
    "\n",
    "print (f'Na primeira rodada {winsRodadas[1]}')\n"
   ]
  },
  {
   "cell_type": "code",
   "execution_count": 33,
   "metadata": {},
   "outputs": [
    {
     "name": "stdout",
     "output_type": "stream",
     "text": [
      "Na primeira rodada\n",
      "Ganharam 1 vezes\n",
      "Na segunda rodada\n",
      "Ganharam 2 vezes\n",
      "Na terceira rodada\n",
      "Ganharam 3 vezes\n",
      "Na quarta rodada\n",
      "Ganharam 4 vezes\n",
      "Na quinta rodada\n",
      "Ganharam 5 vezes\n"
     ]
    }
   ],
   "source": [
    "for i in range(len(winsRodadas)):\n",
    "    if (i % 2 == 0):\n",
    "        print(f'Na {winsRodadas[i]} rodada')\n",
    "    else:\n",
    "        print(f'Ganharam {winsRodadas[i]} vezes')\n",
    "    "
   ]
  },
  {
   "cell_type": "code",
   "execution_count": 34,
   "metadata": {},
   "outputs": [
    {
     "name": "stdout",
     "output_type": "stream",
     "text": [
      "<class 'list'>\n"
     ]
    }
   ],
   "source": [
    "print (type(winsRodadas))"
   ]
  },
  {
   "cell_type": "code",
   "execution_count": 35,
   "metadata": {},
   "outputs": [
    {
     "name": "stdout",
     "output_type": "stream",
     "text": [
      "0: primeira\n",
      "1: 1\n",
      "2: segunda\n",
      "3: 2\n",
      "4: terceira\n",
      "5: 3\n",
      "6: quarta\n",
      "7: 4\n",
      "8: quinta\n",
      "9: 5\n"
     ]
    }
   ],
   "source": [
    "for indice, valor in enumerate(winsRodadas):\n",
    "    print(f'{indice}: {valor}')"
   ]
  },
  {
   "cell_type": "code",
   "execution_count": 36,
   "metadata": {},
   "outputs": [
    {
     "data": {
      "text/plain": [
       "[(0, 'primeira'),\n",
       " (1, 1),\n",
       " (2, 'segunda'),\n",
       " (3, 2),\n",
       " (4, 'terceira'),\n",
       " (5, 3),\n",
       " (6, 'quarta'),\n",
       " (7, 4),\n",
       " (8, 'quinta'),\n",
       " (9, 5)]"
      ]
     },
     "execution_count": 36,
     "metadata": {},
     "output_type": "execute_result"
    }
   ],
   "source": [
    "list(enumerate(winsRodadas))"
   ]
  },
  {
   "cell_type": "code",
   "execution_count": 40,
   "metadata": {},
   "outputs": [],
   "source": [
    "def imprimir(items):\n",
    "    for i in range(len(winsRodadas)):\n",
    "        if (i % 2 == 0):\n",
    "            print(f'Na {winsRodadas[i]} rodada')\n",
    "        else:\n",
    "            print(f'Ganharam {winsRodadas[i]} vezes')"
   ]
  },
  {
   "cell_type": "code",
   "execution_count": 41,
   "metadata": {},
   "outputs": [
    {
     "name": "stdout",
     "output_type": "stream",
     "text": [
      "Na primeira rodada\n",
      "Ganharam 1 vezes\n",
      "Na segunda rodada\n",
      "Ganharam 2 vezes\n",
      "Na terceira rodada\n",
      "Ganharam 3 vezes\n",
      "Na quarta rodada\n",
      "Ganharam 4 vezes\n",
      "Na quinta rodada\n",
      "Ganharam 5 vezes\n"
     ]
    }
   ],
   "source": [
    "imprimir(looseRodadas)"
   ]
  }
 ],
 "metadata": {
  "kernelspec": {
   "display_name": "Python 3",
   "language": "python",
   "name": "python3"
  },
  "language_info": {
   "codemirror_mode": {
    "name": "ipython",
    "version": 3
   },
   "file_extension": ".py",
   "mimetype": "text/x-python",
   "name": "python",
   "nbconvert_exporter": "python",
   "pygments_lexer": "ipython3",
   "version": "3.8.6"
  }
 },
 "nbformat": 4,
 "nbformat_minor": 4
}
